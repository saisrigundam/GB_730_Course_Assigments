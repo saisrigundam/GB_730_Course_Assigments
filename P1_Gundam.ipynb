{
  "nbformat": 4,
  "nbformat_minor": 0,
  "metadata": {
    "colab": {
      "provenance": []
    },
    "kernelspec": {
      "name": "python3",
      "display_name": "Python 3"
    },
    "language_info": {
      "name": "python"
    }
  },
  "cells": [
    {
      "cell_type": "code",
      "execution_count": null,
      "metadata": {
        "id": "EECG0cnwQeCW",
        "colab": {
          "base_uri": "https://localhost:8080/"
        },
        "outputId": "9c98070e-6a78-4f07-d632-ffc1d4a75c66"
      },
      "outputs": [
        {
          "output_type": "stream",
          "name": "stdout",
          "text": [
            "\u001b[K     |████████████████████████████████| 11.1 MB 12.8 MB/s \n",
            "\u001b[K     |████████████████████████████████| 49 kB 1.7 MB/s \n",
            "\u001b[?25h"
          ]
        }
      ],
      "source": [
        "#Copy-and-paste the code below to use as \"set-up\" when your optimization model uses Pyomo.\n",
        "#Uncomment the appropriate solver that you need.\n",
        "#for reference, see https://colab.research.google.com/drive/1yGk8RB5NXrcx9f1Tb-oCiWzbxh61hZLI?usp=sharing\n",
        "\n",
        "#installing and importing pyomo\n",
        "!pip install -q pyomo\n",
        "from pyomo.environ import *\n",
        "\n",
        "###installing and importing specific solvers (uncomment the one(s) you need)\n",
        "###glpk\n",
        "#!apt-get install -y -qq glpk-utils\n",
        "###cbc\n",
        "#!apt-get install -y -qq coinor-cbc\n",
        "###ipopt\n",
        "!wget -N -q \"https://ampl.com/dl/open/ipopt/ipopt-linux64.zip\"\n",
        "!unzip -o -q ipopt-linux64\n",
        "###bonmin\n",
        "#!wget -N -q \"https://ampl.com/dl/open/bonmin/bonmin-linux64.zip\"\n",
        "#!unzip -o -q bonmin-linux64\n",
        "###couenne\n",
        "#!wget -N -q \"https://ampl.com/dl/open/couenne/couenne-linux64.zip\"\n",
        "#!unzip -o -q couenne-linux64\n",
        "###geocode\n",
        "#!wget -N -q \"https://ampl.com/dl/open/gecode/gecode-linux64.zip\"\n",
        "#!unzip -o -q gecode-linux64\n",
        "\n",
        "#Using the solvers:\n",
        "#SolverFactory('glpk', executable='/usr/bin/glpsol')\n",
        "#SolverFactory('cbc', executable='/usr/bin/cbc')\n",
        "#SolverFactory('ipopt', executable='/content/ipopt')\n",
        "#SolverFactory('bonmin', executable='/content/bonmin')\n",
        "#SolverFactory('couenne', executable='/content/couenne')\n",
        "#SolverFactory('gecode', executable='/content/gecode')"
      ]
    },
    {
      "cell_type": "code",
      "source": [
        "#Minimize x^2 - xy + y^2 -3x -1.5y\n",
        "#such -1<= x <= 2\n",
        "#0<= y <= 3"
      ],
      "metadata": {
        "id": "q1Q8LkYyQjes"
      },
      "execution_count": null,
      "outputs": []
    },
    {
      "cell_type": "code",
      "source": [
        "a = 1\n",
        "b = 1\n",
        "c = 1\n",
        "d= 3\n",
        "e= 1.5\n",
        "\n",
        "#initialize a \"Concrete Model\"\n",
        "model = ConcreteModel()\n",
        "\n",
        "#initialize DVs\n",
        "model.x = Var(domain= Reals, bounds = (-1,2)) #You can google \"pyomo domain sets\" to see several domain examples\n",
        "model.y = Var(domain= Reals, bounds = (0,3))\n",
        "\n",
        "#define the objective\n",
        "model.Objective = Objective(expr = a*model.x**2 - b*model.x*model.y + c*model.y**2 - d*model.x - e*model.y, sense = minimize)\n",
        "\n",
        "#constraints\n",
        "model.const1 = Constraint(expr = model.x >= -1)\n",
        "model.const2 = Constraint(expr = model.x <= 2)\n",
        "model.const3 = Constraint(expr = model.y >= 0)\n",
        "model.const4 = Constraint(expr = model.y <= 3)\n",
        "\n",
        "#(Optional) You can use model.pprint() to see what you've done so far\n",
        "model.pprint()"
      ],
      "metadata": {
        "colab": {
          "base_uri": "https://localhost:8080/"
        },
        "id": "sxyegwwcRm70",
        "outputId": "06779d37-e9ab-4fba-915d-695786d665b0"
      },
      "execution_count": null,
      "outputs": [
        {
          "output_type": "stream",
          "name": "stdout",
          "text": [
            "2 Var Declarations\n",
            "    x : Size=1, Index=None\n",
            "        Key  : Lower : Value : Upper : Fixed : Stale : Domain\n",
            "        None :    -1 :  None :     2 : False :  True :  Reals\n",
            "    y : Size=1, Index=None\n",
            "        Key  : Lower : Value : Upper : Fixed : Stale : Domain\n",
            "        None :     0 :  None :     3 : False :  True :  Reals\n",
            "\n",
            "1 Objective Declarations\n",
            "    Objective : Size=1, Index=None, Active=True\n",
            "        Key  : Active : Sense    : Expression\n",
            "        None :   True : minimize : x**2 - x*y + y**2 - 3*x - 1.5*y\n",
            "\n",
            "4 Constraint Declarations\n",
            "    const1 : Size=1, Index=None, Active=True\n",
            "        Key  : Lower : Body : Upper : Active\n",
            "        None :  -1.0 :    x :  +Inf :   True\n",
            "    const2 : Size=1, Index=None, Active=True\n",
            "        Key  : Lower : Body : Upper : Active\n",
            "        None :  -Inf :    x :   2.0 :   True\n",
            "    const3 : Size=1, Index=None, Active=True\n",
            "        Key  : Lower : Body : Upper : Active\n",
            "        None :   0.0 :    y :  +Inf :   True\n",
            "    const4 : Size=1, Index=None, Active=True\n",
            "        Key  : Lower : Body : Upper : Active\n",
            "        None :  -Inf :    y :   3.0 :   True\n",
            "\n",
            "7 Declarations: x y Objective const1 const2 const3 const4\n"
          ]
        }
      ]
    },
    {
      "cell_type": "code",
      "source": [
        "#solve model\n",
        "opt = SolverFactory('ipopt', executable='/content/ipopt')\n",
        "\n",
        "results = opt.solve(model, tee = True) #setting tee = False hides the diagnostic outputs"
      ],
      "metadata": {
        "colab": {
          "base_uri": "https://localhost:8080/"
        },
        "id": "h0F7cs1-RrFb",
        "outputId": "78d4592c-3af1-4e00-e754-78fe3a8e3218"
      },
      "execution_count": null,
      "outputs": [
        {
          "output_type": "stream",
          "name": "stdout",
          "text": [
            "Ipopt 3.12.13: \n",
            "\n",
            "******************************************************************************\n",
            "This program contains Ipopt, a library for large-scale nonlinear optimization.\n",
            " Ipopt is released as open source code under the Eclipse Public License (EPL).\n",
            "         For more information visit http://projects.coin-or.org/Ipopt\n",
            "******************************************************************************\n",
            "\n",
            "This is Ipopt version 3.12.13, running with linear solver mumps.\n",
            "NOTE: Other linear solvers might be more efficient (see Ipopt documentation).\n",
            "\n",
            "Number of nonzeros in equality constraint Jacobian...:        0\n",
            "Number of nonzeros in inequality constraint Jacobian.:        4\n",
            "Number of nonzeros in Lagrangian Hessian.............:        3\n",
            "\n",
            "Total number of variables............................:        2\n",
            "                     variables with only lower bounds:        0\n",
            "                variables with lower and upper bounds:        2\n",
            "                     variables with only upper bounds:        0\n",
            "Total number of equality constraints.................:        0\n",
            "Total number of inequality constraints...............:        4\n",
            "        inequality constraints with only lower bounds:        2\n",
            "   inequality constraints with lower and upper bounds:        0\n",
            "        inequality constraints with only upper bounds:        2\n",
            "\n",
            "iter    objective    inf_pr   inf_du lg(mu)  ||d||  lg(rg) alpha_du alpha_pr  ls\n",
            "   0 -1.4899985e-02 0.00e+00 1.00e+00  -1.0 0.00e+00    -  0.00e+00 0.00e+00   0\n",
            "   1 -1.7574912e+00 0.00e+00 8.93e-01  -1.0 6.44e-01    -  5.26e-01 1.00e+00f  1\n",
            "   2 -4.7542941e+00 0.00e+00 2.28e-01  -1.0 1.84e+00    -  7.24e-01 1.00e+00f  1\n",
            "   3 -4.9858280e+00 0.00e+00 4.75e-02  -1.7 1.61e-01    -  8.94e-01 1.00e+00f  1\n",
            "   4 -5.0440074e+00 0.00e+00 2.83e-08  -2.5 6.19e-02    -  1.00e+00 1.00e+00f  1\n",
            "   5 -5.0613396e+00 0.00e+00 1.50e-09  -3.8 2.25e-02    -  1.00e+00 1.00e+00f  1\n",
            "   6 -5.0624928e+00 0.00e+00 1.84e-11  -5.7 1.54e-03    -  1.00e+00 1.00e+00f  1\n",
            "   7 -5.0625000e+00 0.00e+00 2.51e-14  -8.6 9.66e-06    -  1.00e+00 1.00e+00f  1\n",
            "\n",
            "Number of Iterations....: 7\n",
            "\n",
            "                                   (scaled)                 (unscaled)\n",
            "Objective...............:  -5.0625000098420063e+00   -5.0625000098420063e+00\n",
            "Dual infeasibility......:   2.5091040356528538e-14    2.5091040356528538e-14\n",
            "Constraint violation....:   0.0000000000000000e+00    0.0000000000000000e+00\n",
            "Complementarity.........:   2.5789967854530447e-09    2.5789967854530447e-09\n",
            "Overall NLP error.......:   2.5789967854530447e-09    2.5789967854530447e-09\n",
            "\n",
            "\n",
            "Number of objective function evaluations             = 8\n",
            "Number of objective gradient evaluations             = 8\n",
            "Number of equality constraint evaluations            = 0\n",
            "Number of inequality constraint evaluations          = 8\n",
            "Number of equality constraint Jacobian evaluations   = 0\n",
            "Number of inequality constraint Jacobian evaluations = 8\n",
            "Number of Lagrangian Hessian evaluations             = 7\n",
            "Total CPU secs in IPOPT (w/o function evaluations)   =      0.007\n",
            "Total CPU secs in NLP function evaluations           =      0.000\n",
            "\n",
            "EXIT: Optimal Solution Found.\n",
            "\b\b\b\b\b\b\b\b\b\b\b\b\b\b\b"
          ]
        }
      ]
    },
    {
      "cell_type": "code",
      "source": [
        "#print relevant values\n",
        "print(\"x* = \", model.x()) #alternatively you can use value(model.x)\n",
        "print(\"y* = \", model.y()) #alternatively you can use value(model.y)\n",
        "print(\"obj* = \", model.Objective()) #alternatively you can use value(model.Objective)"
      ],
      "metadata": {
        "colab": {
          "base_uri": "https://localhost:8080/"
        },
        "id": "DoCoQCtFVLHf",
        "outputId": "b7e1e195-aad1-4a57-98c1-6ebf35108471"
      },
      "execution_count": null,
      "outputs": [
        {
          "output_type": "stream",
          "name": "stdout",
          "text": [
            "x* =  2.0\n",
            "y* =  1.7500000059787082\n",
            "obj* =  -5.0625\n"
          ]
        }
      ]
    }
  ]
}