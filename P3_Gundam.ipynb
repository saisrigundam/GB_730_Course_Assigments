{
  "nbformat": 4,
  "nbformat_minor": 0,
  "metadata": {
    "colab": {
      "provenance": [],
      "authorship_tag": "ABX9TyO0x0prt63nCt6aN/0NHFWq"
    },
    "kernelspec": {
      "name": "python3",
      "display_name": "Python 3"
    },
    "language_info": {
      "name": "python"
    }
  },
  "cells": [
    {
      "cell_type": "code",
      "execution_count": null,
      "metadata": {
        "id": "OXdRZA1qsKzs"
      },
      "outputs": [],
      "source": [
        "#Inputs Parameters\n",
        "sales_price = 80 #$\n",
        "sales_price_growth_rate = 0.05\n",
        "sales_volume = 120000\n",
        "sales_volume_growth_rate = 0.075\n",
        "variable_prod_cost = 50 #$\n",
        "variable_prod_cost_growth_rate = 0.02 #%\n",
        "fixed_prod_cost = 32000 #$\n",
        "sga_expense_rate = 0.08\n",
        "effective_tax_rate = 0.34\n",
        "purchase_price = 10000000 #$\n",
        "discount_rate_npv = 0.10\n",
        "number_of_years=5\n"
      ]
    },
    {
      "cell_type": "code",
      "source": [
        "#Calculation of input variable values Year on Year\n",
        "sales_price = [(sales_price*(1+sales_price_growth_rate)**i) for i in range(number_of_years)]\n",
        "print(\"Sales Price                     =    \",sales_price)\n",
        "sales_volume = [(sales_volume*(1+sales_volume_growth_rate)**i) for i in range(number_of_years)]\n",
        "print(\"Sales Volume                    =    \",sales_volume)\n",
        "variable_prod_cost = [(variable_prod_cost*(1+variable_prod_cost_growth_rate)**i) for i in range(number_of_years)]\n",
        "print(\"Unit Variable Production Cost   =    \",variable_prod_cost)"
      ],
      "metadata": {
        "colab": {
          "base_uri": "https://localhost:8080/"
        },
        "id": "QrUkIhLLs8_2",
        "outputId": "bcd2b90b-59a9-4765-c3c7-3792d159fa05"
      },
      "execution_count": null,
      "outputs": [
        {
          "output_type": "stream",
          "name": "stdout",
          "text": [
            "Sales Price                     =     [80.0, 84.0, 88.2, 92.61000000000001, 97.24050000000003]\n",
            "Sales Volume                    =     [120000.0, 129000.0, 138675.0, 149075.62499999997, 160256.296875]\n",
            "Unit Variable Production Cost   =     [50.0, 51.0, 52.019999999999996, 53.06040000000001, 54.121608]\n"
          ]
        }
      ]
    },
    {
      "cell_type": "code",
      "source": [
        "#Calculation of Revenue\n",
        "revenue = [sales_price[i]*sales_volume[i] for i in range(number_of_years)]\n",
        "print(\"Revenue  =  \",revenue)"
      ],
      "metadata": {
        "colab": {
          "base_uri": "https://localhost:8080/"
        },
        "id": "Tu_SU_Uis9JK",
        "outputId": "10ff7609-c52e-46b8-eddb-6290587ec538"
      },
      "execution_count": null,
      "outputs": [
        {
          "output_type": "stream",
          "name": "stdout",
          "text": [
            "Revenue  =   [9600000.0, 10836000.0, 12231135.0, 13805893.63125, 15583402.43627344]\n"
          ]
        }
      ]
    },
    {
      "cell_type": "code",
      "source": [
        "#Calculation of Total Production Cost\n",
        "production_costs = [fixed_prod_cost + (variable_prod_cost[i]*sales_volume[i]) for i in range(number_of_years)]\n",
        "print(\" Total Production Costs   = \", production_costs)"
      ],
      "metadata": {
        "colab": {
          "base_uri": "https://localhost:8080/"
        },
        "id": "mpah_v6Ks9Mj",
        "outputId": "1d1c5d68-afb2-4ccd-9b25-55212bcf525e"
      },
      "execution_count": null,
      "outputs": [
        {
          "output_type": "stream",
          "name": "stdout",
          "text": [
            " Total Production Costs   =  [6032000.0, 6611000.0, 7245873.499999999, 7942012.29275, 8705328.479000375]\n"
          ]
        }
      ]
    },
    {
      "cell_type": "code",
      "source": [
        "#Calculation of SG&A Expenses\n",
        "sga_expense = [sga_expense_rate*production_costs[i] for i in range(number_of_years)]\n",
        "print(\"SGA cost =\", sga_expense)"
      ],
      "metadata": {
        "colab": {
          "base_uri": "https://localhost:8080/"
        },
        "id": "Cbe0qB73s9RJ",
        "outputId": "bc88d940-834d-40b7-9004-c0a3f5f67cc2"
      },
      "execution_count": null,
      "outputs": [
        {
          "output_type": "stream",
          "name": "stdout",
          "text": [
            "SGA cost = [482560.0, 528880.0, 579669.8799999999, 635360.9834200001, 696426.27832003]\n"
          ]
        }
      ]
    },
    {
      "cell_type": "code",
      "source": [
        "#Calculation of Earnings before and after taxes.\n",
        "gross_margin = [revenue[i]-production_costs[i] for i in range(number_of_years)]\n",
        "print(\"Gross Margin = \",gross_margin)\n",
        "earnings_before_tax = [gross_margin[i]-sga_expense[i] for i in range(number_of_years)]\n",
        "print(\"Earnings before tax =\",earnings_before_tax)\n",
        "taxes = [earnings_before_tax[i]*effective_tax_rate for i in range(number_of_years)]\n",
        "print(\"Taxes =\",taxes)\n",
        "earnings_after_tax = [earnings_before_tax[i]-taxes[i] for i in range(number_of_years)]\n",
        "print(\"Earnings after tax =\",earnings_after_tax)"
      ],
      "metadata": {
        "colab": {
          "base_uri": "https://localhost:8080/"
        },
        "id": "pRuU5h9us9Uo",
        "outputId": "2acd7b37-728a-454f-9d80-a107e92567d3"
      },
      "execution_count": null,
      "outputs": [
        {
          "output_type": "stream",
          "name": "stdout",
          "text": [
            "Gross Margin =  [3568000.0, 4225000.0, 4985261.500000001, 5863881.3385, 6878073.957273066]\n",
            "Earnings before tax = [3085440.0, 3696120.0, 4405591.620000001, 5228520.355079999, 6181647.678953036]\n",
            "Taxes = [1049049.6, 1256680.8, 1497901.1508000004, 1777696.9207271999, 2101760.2108440325]\n",
            "Earnings after tax = [2036390.4, 2439439.2, 2907690.4692000006, 3450823.4343527993, 4079887.4681090033]\n"
          ]
        }
      ]
    },
    {
      "cell_type": "code",
      "source": [
        "#Calculation of NPV (Net Present Value) on earnings after tax\n",
        "!pip install numpy_financial\n",
        "import numpy as np\n",
        "import numpy_financial as npf\n",
        "npv_earnings=(earnings_after_tax/ (1+discount_rate_npv)**np.arange(1, len(earnings_after_tax)+1)).sum(axis=0)\n",
        "print(\"NPV of earnings after tax = \",npv_earnings)"
      ],
      "metadata": {
        "colab": {
          "base_uri": "https://localhost:8080/"
        },
        "id": "3ytav1rQtb3n",
        "outputId": "c90b83f7-bf0f-4d3c-a01e-97c22b8c8d67"
      },
      "execution_count": null,
      "outputs": [
        {
          "output_type": "stream",
          "name": "stdout",
          "text": [
            "Looking in indexes: https://pypi.org/simple, https://us-python.pkg.dev/colab-wheels/public/simple/\n",
            "Requirement already satisfied: numpy_financial in /usr/local/lib/python3.7/dist-packages (1.0.0)\n",
            "Requirement already satisfied: numpy>=1.15 in /usr/local/lib/python3.7/dist-packages (from numpy_financial) (1.21.6)\n",
            "NPV of earnings after tax =  10942168.30287864\n"
          ]
        }
      ]
    },
    {
      "cell_type": "code",
      "source": [
        "#Calculation of NPV of Business Purchase\n",
        "npv_purchase = npv_earnings - purchase_price\n",
        "print(\"NPV of the Business Purchase  = \",npv_purchase)"
      ],
      "metadata": {
        "colab": {
          "base_uri": "https://localhost:8080/"
        },
        "id": "mQ6hw2SBtb6t",
        "outputId": "8b720005-376c-4464-9367-93d8b49298ce"
      },
      "execution_count": null,
      "outputs": [
        {
          "output_type": "stream",
          "name": "stdout",
          "text": [
            "NPV of the Business Purchase  =  942168.3028786406\n"
          ]
        }
      ]
    }
  ]
}